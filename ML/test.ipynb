{
 "metadata": {
  "language_info": {
   "codemirror_mode": {
    "name": "ipython",
    "version": 3
   },
   "file_extension": ".py",
   "mimetype": "text/x-python",
   "name": "python",
   "nbconvert_exporter": "python",
   "pygments_lexer": "ipython3",
   "version": 3
  },
  "orig_nbformat": 2
 },
 "nbformat": 4,
 "nbformat_minor": 2,
 "cells": [
  {
   "cell_type": "code",
   "execution_count": null,
   "metadata": {},
   "outputs": [],
   "source": [
    "import tensorflow.compat.v1 as tf1\n",
    " \n",
    "tf1.reset_default_graph()\n",
    "tf1.keras.backend.set_learning_phase(0)  # 调用模型前一定要执行该命令\n",
    "tf1.disable_v2_behavior()  # 禁止tensorflow2.0的行为\n",
    "\n",
    "hdf5_pb_model = tf1.keras.models.load_model('model.h5')\n",
    "def freeze_session(session, keep_var_names=None, output_names=None, clear_devices=True):\n",
    "    graph = session.graph\n",
    "    with graph.as_default():\n",
    "        #         freeze_var_names = list(set(v.op.name for v in tf1.global_variables()).difference(keep_var_names or []))\n",
    "        output_names = output_names or []\n",
    "        #         output_names += [v.op.name for v in tf1.global_variables()]\n",
    "        print(\"output_names\", output_names)\n",
    "        input_graph_def = graph.as_graph_def()\n",
    "        #         for node in input_graph_def.node:\n",
    "        #             print('node:', node.name)\n",
    "        print(\"len node1\", len(input_graph_def.node))\n",
    "        if clear_devices:\n",
    "            for node in input_graph_def.node:\n",
    "                node.device = \"\"\n",
    "        frozen_graph = tf1.graph_util.convert_variables_to_constants(session, input_graph_def,\n",
    "                                                                     output_names)\n",
    " \n",
    "        outgraph = tf1.graph_util.remove_training_nodes(frozen_graph)  # 云掉与推理无关的内容\n",
    "        print(\"##################################################################\")\n",
    "        for node in outgraph.node:\n",
    "            print('node:', node.name)\n",
    "        print(\"len node1\", len(outgraph.node))\n",
    "        return outgraph\n",
    "\n",
    "output_folder2 = 'keras_model'\n",
    " \n",
    "frozen_graph = freeze_session(tf1.compat.v1.keras.backend.get_session(),\n",
    "                              output_names=[out.op.name for out in hdf5_pb_model.outputs])\n",
    "tf1.train.write_graph(frozen_graph, output_folder2, \"classify.pb\", as_text=False)"
   ]
  }
 ]
}