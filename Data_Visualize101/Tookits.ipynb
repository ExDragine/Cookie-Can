{
 "cells": [
  {
   "cell_type": "code",
   "execution_count": null,
   "metadata": {},
   "outputs": [],
   "source": [
    "import os\n",
    "import requests\n",
    "\n",
    "char = 'https://sites.cs.ucsb.edu/~lingqi/teaching/resources/GAMES101_Lecture_'\n",
    "char2 = '.pdf'\n",
    "file = open('get.cmd', 'w+')\n",
    "lis1 = []\n",
    "\n",
    "for i in range(1, 10):\n",
    "    charFinal = 'wget ' + char + '0' + str(\n",
    "        i) + char2 + ' -o GAMES101_Lecture_' + str(i) + '.pdf' + '\\n'\n",
    "    lis1.append(charFinal)\n",
    "for i in range(10, 23):\n",
    "    charFinal = 'wget ' + char + str(\n",
    "        i) + char2 + ' -o GAMES101_Lecture_' + str(i) + '.pdf' + '\\n'\n",
    "    lis1.append(charFinal)\n",
    "file.writelines(lis1)\n"
   ]
  },
  {
   "cell_type": "code",
   "execution_count": 25,
   "metadata": {},
   "outputs": [],
   "source": [
    "from Crypto.Cipher import AES\n",
    "from Crypto import Random\n",
    "\n",
    "def encrypt(key, filename):\n",
    "    chunksize = 64*1024\n",
    "    outputFile = \"(encrypted)\"+filename\n",
    "    filesize = str(os.path.getsize(filename)).zfill(16)\n",
    "    IV = Random.new().read(16)\n",
    "    encryptor = AES.new(key, AES.MODE_CBC, IV)\n",
    "    with open(filename, 'rb') as infile:\n",
    "        with open(outputFile, 'wb') as outfile:\n",
    "            outfile.write(filesize.encode('utf-8'))\n",
    "            outfile.write(IV)\n",
    "            while True:\n",
    "                chunk = infile.read(chunksize)\n",
    "                if len(chunk) == 0:\n",
    "                    break\n",
    "                elif len(chunk) % 16 != 0:\n",
    "                    chunk += b' ' * (16 - (len(chunk) % 16))\n",
    "                outfile.write(encryptor.encrypt(chunk))\n",
    "\n",
    "key=b'TahnassDidThat22'\n",
    "filename='Encode.bin'\n",
    "encrypt(key, filename)\n"
   ]
  },
  {
   "cell_type": "code",
   "execution_count": 26,
   "metadata": {},
   "outputs": [],
   "source": [
    "def Decrypt(key, filename):\n",
    "    chunksize = 64*1024\n",
    "    outputFile = '(decrypted)'+filename\n",
    "    with open(filename, 'rb') as infile:\n",
    "        filesize = int(infile.read(16))\n",
    "        IV = infile.read(16)\n",
    "        decrypt = AES.new(key, AES.MODE_CBC, IV)\n",
    "        with open(outputFile, 'wb') as outfile:\n",
    "            while True:\n",
    "                chunk = infile.read(chunksize)\n",
    "                if len(chunk) == 0:\n",
    "                    break\n",
    "                outfile.write(decrypt.decrypt(chunk))\n",
    "            outfile.truncate(filesize)\n",
    "Decrypt(key, '(encrypted)'+filename)"
   ]
  },
  {
   "cell_type": "code",
   "execution_count": 2,
   "metadata": {},
   "outputs": [
    {
     "name": "stdout",
     "output_type": "stream",
     "text": [
      "89e8eadd27ea53a78706a1aa339147a85331d7b2\n"
     ]
    }
   ],
   "source": [
    "import hashlib\n",
    "\n",
    "Data = open('SEUS-Renewed-v1.0.1.zip', 'rb').read()\n",
    "print(hashlib.sha1(Data).hexdigest())\n"
   ]
  }
 ],
 "metadata": {
  "interpreter": {
   "hash": "d107c8508c4103c3910e611060cc20f4800c0af83bcf1ee1568d27a6634620c3"
  },
  "kernelspec": {
   "display_name": "Python 3.9.7 64-bit ('base': conda)",
   "language": "python",
   "name": "python3"
  },
  "language_info": {
   "codemirror_mode": {
    "name": "ipython",
    "version": 3
   },
   "file_extension": ".py",
   "mimetype": "text/x-python",
   "name": "python",
   "nbconvert_exporter": "python",
   "pygments_lexer": "ipython3",
   "version": "3.9.7"
  },
  "orig_nbformat": 4
 },
 "nbformat": 4,
 "nbformat_minor": 2
}