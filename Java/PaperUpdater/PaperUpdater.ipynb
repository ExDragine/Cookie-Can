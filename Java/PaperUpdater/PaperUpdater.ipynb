{
 "cells": [
  {
   "cell_type": "code",
   "execution_count": null,
   "metadata": {},
   "outputs": [],
   "source": [
    "import requests\n",
    "import pyjion\n",
    "import json"
   ]
  },
  {
   "cell_type": "code",
   "execution_count": null,
   "metadata": {},
   "outputs": [],
   "source": [
    "pyjion.enable()"
   ]
  },
  {
   "cell_type": "code",
   "execution_count": null,
   "metadata": {},
   "outputs": [],
   "source": [
    "MinecraftVersion = json.loads(\n",
    "    requests.api.get(\n",
    "        'http://launchermeta.mojang.com/mc/game/version_manifest.json').text)\n",
    "MinecraftVersion = str(MinecraftVersion['latest']['release'])\n",
    "MinecraftVersion = MinecraftVersion[:4]\n",
    "print(MinecraftVersion)\n",
    "PaperURL = 'https://papermc.io/api/v2'\n",
    "\n",
    "Projects = json.loads(requests.api.get(PaperURL + '/projects').text)\n",
    "Projects = Projects['projects']\n",
    "\n",
    "VersionGroup = json.loads(\n",
    "    requests.api.get(PaperURL + '/projects/paper/version_group/' +\n",
    "                     MinecraftVersion + '/builds').text)\n",
    "version = VersionGroup['versions'][-1]\n",
    "build = VersionGroup['builds'][-1]['build']\n",
    "download = VersionGroup['builds'][-1]['downloads']['application']['name']\n",
    "\n",
    "tmp = requests.api.get(PaperURL + '/projects' + '/paper/versions/' +\n",
    "                       str(version) + '/builds/' + str(build) + \"/downloads/\" +\n",
    "                       str(download))\n",
    "file = open('paper.jar', 'wb+')\n",
    "file.write(tmp.content)\n",
    "file.close()\n"
   ]
  }
 ],
 "metadata": {
  "interpreter": {
   "hash": "5cc200df6a0ec934e944f0776c2faec3026c7aa76a875a9cbcc7f3602793981d"
  },
  "kernelspec": {
   "display_name": "Python 3.10.0 64-bit ('Mercury': conda)",
   "language": "python",
   "name": "python3"
  },
  "language_info": {
   "codemirror_mode": {
    "name": "ipython",
    "version": 3
   },
   "file_extension": ".py",
   "mimetype": "text/x-python",
   "name": "python",
   "nbconvert_exporter": "python",
   "pygments_lexer": "ipython3",
   "version": "3.9.7"
  },
  "orig_nbformat": 4
 },
 "nbformat": 4,
 "nbformat_minor": 2
}
