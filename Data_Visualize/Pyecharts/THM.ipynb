{
 "metadata": {
  "language_info": {
   "codemirror_mode": {
    "name": "ipython",
    "version": 3
   },
   "file_extension": ".py",
   "mimetype": "text/x-python",
   "name": "python",
   "nbconvert_exporter": "python",
   "pygments_lexer": "ipython3",
   "version": "3.7.4"
  },
  "orig_nbformat": 2,
  "kernelspec": {
   "name": "python374jvsc74a57bd0b3ba2566441a7c06988d0923437866b63cedc61552a5af99d1f4fb67d367b25f",
   "display_name": "Python 3.7.4 64-bit ('base': conda)"
  }
 },
 "nbformat": 4,
 "nbformat_minor": 2,
 "cells": [
  {
   "cell_type": "code",
   "execution_count": 1,
   "metadata": {},
   "outputs": [
    {
     "output_type": "execute_result",
     "data": {
      "text/plain": [
       "<pyecharts.render.display.HTML at 0x5f6d8c8>"
      ],
      "text/html": "\n<script>\n    require.config({\n        paths: {\n            'echarts':'https://assets.pyecharts.org/assets/echarts.min', 'china':'https://assets.pyecharts.org/assets/maps/china'\n        }\n    });\n</script>\n\n        <div id=\"b33b986b10314fe9b2e76a0de56a680c\" style=\"width:900px; height:500px;\"></div>\n\n<script>\n        require(['echarts', 'china'], function(echarts) {\n                var chart_b33b986b10314fe9b2e76a0de56a680c = echarts.init(\n                    document.getElementById('b33b986b10314fe9b2e76a0de56a680c'), 'white', {renderer: 'canvas'});\n                var option_b33b986b10314fe9b2e76a0de56a680c = {\n    \"animation\": true,\n    \"animationThreshold\": 2000,\n    \"animationDuration\": 1000,\n    \"animationEasing\": \"cubicOut\",\n    \"animationDelay\": 0,\n    \"animationDurationUpdate\": 300,\n    \"animationEasingUpdate\": \"cubicOut\",\n    \"animationDelayUpdate\": 0,\n    \"color\": [\n        \"#c23531\",\n        \"#2f4554\",\n        \"#61a0a8\",\n        \"#d48265\",\n        \"#749f83\",\n        \"#ca8622\",\n        \"#bda29a\",\n        \"#6e7074\",\n        \"#546570\",\n        \"#c4ccd3\",\n        \"#f05b72\",\n        \"#ef5b9c\",\n        \"#f47920\",\n        \"#905a3d\",\n        \"#fab27b\",\n        \"#2a5caa\",\n        \"#444693\",\n        \"#726930\",\n        \"#b2d235\",\n        \"#6d8346\",\n        \"#ac6767\",\n        \"#1d953f\",\n        \"#6950a1\",\n        \"#918597\"\n    ],\n    \"series\": [\n        {\n            \"type\": \"lines\",\n            \"coordinateSystem\": \"geo\",\n            \"zlevel\": 2,\n            \"progressive\": 400,\n            \"progressiveThreshold\": 3000,\n            \"effect\": {\n                \"show\": true,\n                \"brushType\": \"stroke\",\n                \"scale\": 2.5,\n                \"period\": 4,\n                \"color\": \"orange\",\n                \"symbol\": \"arrow\",\n                \"symbolSize\": 2\n            },\n            \"symbol\": [\n                \"none\",\n                \"arrow\"\n            ],\n            \"polyline\": false,\n            \"large\": false,\n            \"largeThreshold\": 2000,\n            \"symbolSize\": 12,\n            \"data\": [\n                {\n                    \"name\": \"\\u592a\\u539f->\\u897f\\u5b89\",\n                    \"coords\": [\n                        [\n                            112.53,\n                            37.87\n                        ],\n                        [\n                            108.95,\n                            34.27\n                        ]\n                    ]\n                },\n                {\n                    \"name\": \"\\u897f\\u5b89->\\u5170\\u5dde\",\n                    \"coords\": [\n                        [\n                            108.95,\n                            34.27\n                        ],\n                        [\n                            103.73,\n                            36.03\n                        ]\n                    ]\n                },\n                {\n                    \"name\": \"\\u5170\\u5dde->\\u897f\\u5b81\",\n                    \"coords\": [\n                        [\n                            103.73,\n                            36.03\n                        ],\n                        [\n                            101.74,\n                            36.56\n                        ]\n                    ]\n                },\n                {\n                    \"name\": \"\\u897f\\u5b81->\\u62c9\\u8428\",\n                    \"coords\": [\n                        [\n                            101.74,\n                            36.56\n                        ],\n                        [\n                            91.11,\n                            29.97\n                        ]\n                    ]\n                }\n            ],\n            \"lineStyle\": {\n                \"show\": true,\n                \"width\": 1,\n                \"opacity\": 1,\n                \"curveness\": 0,\n                \"type\": \"solid\"\n            },\n            \"label\": {\n                \"show\": true,\n                \"position\": \"top\",\n                \"margin\": 8\n            }\n        }\n    ],\n    \"legend\": [\n        {\n            \"data\": [\n                \"\"\n            ],\n            \"selected\": {\n                \"\": true\n            },\n            \"show\": true,\n            \"padding\": 5,\n            \"itemGap\": 10,\n            \"itemWidth\": 25,\n            \"itemHeight\": 14\n        }\n    ],\n    \"tooltip\": {\n        \"show\": true,\n        \"trigger\": \"item\",\n        \"triggerOn\": \"mousemove|click\",\n        \"axisPointer\": {\n            \"type\": \"line\"\n        },\n        \"showContent\": true,\n        \"alwaysShowContent\": false,\n        \"showDelay\": 0,\n        \"hideDelay\": 100,\n        \"textStyle\": {\n            \"fontSize\": 14\n        },\n        \"borderWidth\": 0,\n        \"padding\": 5\n    },\n    \"title\": [\n        {\n            \"padding\": 5,\n            \"itemGap\": 10\n        }\n    ],\n    \"geo\": {\n        \"map\": \"china\",\n        \"roam\": true,\n        \"aspectScale\": 0.75,\n        \"nameProperty\": \"name\",\n        \"selectedMode\": false,\n        \"itemStyle\": {\n            \"color\": \"#323c48\",\n            \"borderColor\": \"#111\"\n        },\n        \"emphasis\": {}\n    }\n};\n                chart_b33b986b10314fe9b2e76a0de56a680c.setOption(option_b33b986b10314fe9b2e76a0de56a680c);\n        });\n    </script>\n"
     },
     "metadata": {},
     "execution_count": 1
    }
   ],
   "source": [
    "from pyecharts.charts import Geo,Map\n",
    "import pyecharts.options as opts\n",
    "from pyecharts.globals import ChartType,SymbolType\n",
    "\n",
    "#city_num = [('广州',105),('成都',105),('北京',105),('西安',105)]\n",
    "start_end = [('太原','西安'),('西安','兰州'),('兰州','西宁'),('西宁','拉萨')]\n",
    "\n",
    "G=( Geo()\n",
    "    .add_schema(maptype='china',#设置地图类型\n",
    "             itemstyle_opts = opts.ItemStyleOpts(color='#323c48',#设置背景颜色\n",
    "                                                border_color='#111'))#边界颜色\n",
    "    #.add('',data_pair =  city_num,color = 'white')#添加数据，默认是点\n",
    "    .add('',data_pair=start_end,type_=ChartType.LINES,#把start_end用线描绘\n",
    "         effect_opts=opts.EffectOpts(symbol=SymbolType.ARROW, #把特效的线改为箭头\n",
    "                                    color='orange',\n",
    "                                    symbol_size=2   #箭头的大小\n",
    "                                )\n",
    "    ))\n",
    "G.render_notebook()"
   ]
  },
  {
   "cell_type": "code",
   "execution_count": 2,
   "metadata": {},
   "outputs": [
    {
     "output_type": "execute_result",
     "data": {
      "text/plain": [
       "<pyecharts.render.display.HTML at 0x89db8c8>"
      ],
      "text/html": "\n<script>\n    require.config({\n        paths: {\n            'echarts':'https://assets.pyecharts.org/assets/echarts.min', 'china':'https://assets.pyecharts.org/assets/maps/china'\n        }\n    });\n</script>\n\n        <div id=\"79fe89e7ae9f4cfa9884efc4b90d4cc4\" style=\"width:900px; height:500px;\"></div>\n\n<script>\n        require(['echarts', 'china'], function(echarts) {\n                var chart_79fe89e7ae9f4cfa9884efc4b90d4cc4 = echarts.init(\n                    document.getElementById('79fe89e7ae9f4cfa9884efc4b90d4cc4'), 'white', {renderer: 'canvas'});\n                var option_79fe89e7ae9f4cfa9884efc4b90d4cc4 = {\n    \"animation\": true,\n    \"animationThreshold\": 2000,\n    \"animationDuration\": 1000,\n    \"animationEasing\": \"cubicOut\",\n    \"animationDelay\": 0,\n    \"animationDurationUpdate\": 300,\n    \"animationEasingUpdate\": \"cubicOut\",\n    \"animationDelayUpdate\": 0,\n    \"color\": [\n        \"#c23531\",\n        \"#2f4554\",\n        \"#61a0a8\",\n        \"#d48265\",\n        \"#749f83\",\n        \"#ca8622\",\n        \"#bda29a\",\n        \"#6e7074\",\n        \"#546570\",\n        \"#c4ccd3\",\n        \"#f05b72\",\n        \"#ef5b9c\",\n        \"#f47920\",\n        \"#905a3d\",\n        \"#fab27b\",\n        \"#2a5caa\",\n        \"#444693\",\n        \"#726930\",\n        \"#b2d235\",\n        \"#6d8346\",\n        \"#ac6767\",\n        \"#1d953f\",\n        \"#6950a1\",\n        \"#918597\"\n    ],\n    \"series\": [\n        {\n            \"type\": \"heatmap\",\n            \"name\": \"\\u4eba\\u5747\\u80fd\\u8017\",\n            \"coordinateSystem\": \"geo\",\n            \"data\": [\n                {\n                    \"name\": \"\\u5317\\u4eac\",\n                    \"value\": [\n                        116.407526,\n                        39.90403,\n                        3351\n                    ]\n                },\n                {\n                    \"name\": \"\\u5929\\u6d25\",\n                    \"value\": [\n                        117.200983,\n                        39.084158,\n                        5303\n                    ]\n                },\n                {\n                    \"name\": \"\\u6cb3\\u5317\",\n                    \"value\": [\n                        114.468664,\n                        38.037057,\n                        4046\n                    ]\n                },\n                {\n                    \"name\": \"\\u5c71\\u897f\",\n                    \"value\": [\n                        112.562398,\n                        37.873531,\n                        5584\n                    ]\n                },\n                {\n                    \"name\": \"\\u5185\\u8499\\u53e4\",\n                    \"value\": [\n                        111.765617,\n                        40.817498,\n                        8617\n                    ]\n                },\n                {\n                    \"name\": \"\\u8fbd\\u5b81\",\n                    \"value\": [\n                        123.42944,\n                        41.835441,\n                        5270\n                    ]\n                },\n                {\n                    \"name\": \"\\u5409\\u6797\",\n                    \"value\": [\n                        125.32599,\n                        43.896536,\n                        3035\n                    ]\n                },\n                {\n                    \"name\": \"\\u9ed1\\u9f99\\u6c5f\",\n                    \"value\": [\n                        126.661669,\n                        45.742347,\n                        3396\n                    ]\n                },\n                {\n                    \"name\": \"\\u4e0a\\u6d77\",\n                    \"value\": [\n                        121.473701,\n                        31.230416,\n                        4987\n                    ]\n                },\n                {\n                    \"name\": \"\\u6c5f\\u82cf\",\n                    \"value\": [\n                        118.763232,\n                        32.061707,\n                        4004\n                    ]\n                },\n                {\n                    \"name\": \"\\u6d59\\u6c5f\",\n                    \"value\": [\n                        120.152791,\n                        30.267446,\n                        3714\n                    ]\n                },\n                {\n                    \"name\": \"\\u5b89\\u5fbd\",\n                    \"value\": [\n                        117.284922,\n                        31.861184,\n                        2138\n                    ]\n                },\n                {\n                    \"name\": \"\\u798f\\u5efa\",\n                    \"value\": [\n                        119.295144,\n                        26.100779,\n                        3390\n                    ]\n                },\n                {\n                    \"name\": \"\\u6c5f\\u897f\",\n                    \"value\": [\n                        115.909228,\n                        28.675696,\n                        2007\n                    ]\n                },\n                {\n                    \"name\": \"\\u5c71\\u4e1c\",\n                    \"value\": [\n                        117.020359,\n                        36.66853,\n                        3918\n                    ]\n                },\n                {\n                    \"name\": \"\\u6cb3\\u5357\",\n                    \"value\": [\n                        113.753602,\n                        34.765515,\n                        2347\n                    ]\n                },\n                {\n                    \"name\": \"\\u6e56\\u5317\",\n                    \"value\": [\n                        114.341861,\n                        30.546498,\n                        3004\n                    ]\n                },\n                {\n                    \"name\": \"\\u6e56\\u5357\",\n                    \"value\": [\n                        112.98381,\n                        28.112444,\n                        2405\n                    ]\n                },\n                {\n                    \"name\": \"\\u5e7f\\u4e1c\",\n                    \"value\": [\n                        113.26653,\n                        23.132191,\n                        2875\n                    ]\n                },\n                {\n                    \"name\": \"\\u5e7f\\u897f\",\n                    \"value\": [\n                        108.327546,\n                        22.815478,\n                        2195\n                    ]\n                },\n                {\n                    \"name\": \"\\u6d77\\u5357\",\n                    \"value\": [\n                        110.349228,\n                        20.017377,\n                        2296\n                    ]\n                },\n                {\n                    \"name\": \"\\u91cd\\u5e86\",\n                    \"value\": [\n                        106.551556,\n                        29.563009,\n                        3175\n                    ]\n                },\n                {\n                    \"name\": \"\\u56db\\u5ddd\",\n                    \"value\": [\n                        104.075931,\n                        30.651651,\n                        2727\n                    ]\n                },\n                {\n                    \"name\": \"\\u8d35\\u5dde\",\n                    \"value\": [\n                        106.70741,\n                        26.598194,\n                        3006\n                    ]\n                },\n                {\n                    \"name\": \"\\u4e91\\u5357\",\n                    \"value\": [\n                        102.710002,\n                        25.045806,\n                        2611\n                    ]\n                },\n                {\n                    \"name\": \"\\u897f\\u85cf\",\n                    \"value\": [\n                        91.117212,\n                        29.646922,\n                        1234\n                    ]\n                },\n                {\n                    \"name\": \"\\u9655\\u897f\",\n                    \"value\": [\n                        108.954239,\n                        34.265472,\n                        3380\n                    ]\n                },\n                {\n                    \"name\": \"\\u7518\\u8083\",\n                    \"value\": [\n                        103.826308,\n                        36.059421,\n                        2045\n                    ]\n                },\n                {\n                    \"name\": \"\\u9752\\u6d77\",\n                    \"value\": [\n                        101.780199,\n                        36.620901,\n                        6704\n                    ]\n                },\n                {\n                    \"name\": \"\\u5b81\\u590f\",\n                    \"value\": [\n                        106.258754,\n                        38.471317,\n                        11056\n                    ]\n                },\n                {\n                    \"name\": \"\\u65b0\\u7586\",\n                    \"value\": [\n                        87.627704,\n                        43.793026,\n                        7204\n                    ]\n                }\n            ],\n            \"pointSize\": 20,\n            \"blurSize\": 20,\n            \"label\": {\n                \"show\": false,\n                \"position\": \"top\",\n                \"margin\": 8\n            },\n            \"rippleEffect\": {\n                \"show\": true,\n                \"brushType\": \"stroke\",\n                \"scale\": 2.5,\n                \"period\": 4\n            }\n        }\n    ],\n    \"legend\": [\n        {\n            \"data\": [\n                \"\\u4eba\\u5747\\u80fd\\u8017\"\n            ],\n            \"selected\": {\n                \"\\u4eba\\u5747\\u80fd\\u8017\": true\n            },\n            \"show\": false,\n            \"padding\": 5,\n            \"itemGap\": 10,\n            \"itemWidth\": 25,\n            \"itemHeight\": 14\n        }\n    ],\n    \"tooltip\": {\n        \"show\": true,\n        \"trigger\": \"item\",\n        \"triggerOn\": \"mousemove|click\",\n        \"axisPointer\": {\n            \"type\": \"line\"\n        },\n        \"showContent\": true,\n        \"alwaysShowContent\": false,\n        \"showDelay\": 0,\n        \"hideDelay\": 100,\n        \"formatter\": function (params) {        return params.name + ' : ' + params.value[2];    },\n        \"textStyle\": {\n            \"fontSize\": 14\n        },\n        \"borderWidth\": 0,\n        \"padding\": 5\n    },\n    \"title\": [\n        {\n            \"text\": \"\\u4e2d\\u56fd\\u4eba\\u5747\\u80fd\\u8017\\u70ed\\u529b\\u56fe\",\n            \"subtext\": \"\\u4eba\\u5747\\u80fd\\u8017\\u70ed\\u529b\\u56fe\",\n            \"padding\": 5,\n            \"itemGap\": 10\n        }\n    ],\n    \"visualMap\": {\n        \"show\": true,\n        \"type\": \"continuous\",\n        \"min\": 0,\n        \"max\": 100,\n        \"inRange\": {\n            \"color\": [\n                \"#50a3ba\",\n                \"#eac763\",\n                \"#d94e5d\"\n            ]\n        },\n        \"calculable\": true,\n        \"inverse\": false,\n        \"splitNumber\": 5,\n        \"orient\": \"vertical\",\n        \"showLabel\": true,\n        \"itemWidth\": 20,\n        \"itemHeight\": 140,\n        \"borderWidth\": 0\n    },\n    \"geo\": {\n        \"map\": \"china\",\n        \"roam\": true,\n        \"aspectScale\": 0.75,\n        \"nameProperty\": \"name\",\n        \"selectedMode\": false,\n        \"emphasis\": {}\n    }\n};\n                chart_79fe89e7ae9f4cfa9884efc4b90d4cc4.setOption(option_79fe89e7ae9f4cfa9884efc4b90d4cc4);\n        });\n    </script>\n"
     },
     "metadata": {},
     "execution_count": 2
    }
   ],
   "source": [
    "from pyecharts import options as opts\n",
    "from pyecharts.charts import Geo\n",
    "from pyecharts.globals import ChartType\n",
    "from pyecharts.globals import CurrentConfig\n",
    "import random\n",
    "import numpy\n",
    "import pandas\n",
    "\n",
    "Raw = pandas.read_excel('grdDLa.xlsx')\n",
    "Location = numpy.array(Raw.地区,dtype='str')\n",
    "Number = numpy.array(Raw.人均能耗,dtype='int')\n",
    "Mix = [(Location[i],int(Number[i])) for i in range(len(Location))]\n",
    "\n",
    "geo = (Geo()\n",
    "    .add_schema(maptype=\"china\")\n",
    "    .add(\"人均能耗\", Mix,\n",
    "      type_=ChartType.HEATMAP)\n",
    "    .set_series_opts(label_opts=opts.LabelOpts(is_show=False))\n",
    "    .set_global_opts(\n",
    "      visualmap_opts=opts.VisualMapOpts(),\n",
    "      legend_opts=opts.LegendOpts(is_show=False),\n",
    "      title_opts=opts.TitleOpts(title=\"中国人均能耗热力图\",subtitle=\"人均能耗热力图\"))\n",
    "   )\n",
    "\n",
    "geo.render_notebook()"
   ]
  }
 ]
}