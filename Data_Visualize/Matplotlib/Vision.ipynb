{
 "metadata": {
  "language_info": {
   "codemirror_mode": {
    "name": "ipython",
    "version": 3
   },
   "file_extension": ".py",
   "mimetype": "text/x-python",
   "name": "python",
   "nbconvert_exporter": "python",
   "pygments_lexer": "ipython3",
   "version": "3.8.5"
  },
  "orig_nbformat": 2,
  "kernelspec": {
   "name": "python385jvsc74a57bd0204352d9e53710117af32097d8e7ce42946012c3a01ecf1409b0d1df709aa493",
   "display_name": "Python 3.8.5 64-bit ('base': conda)"
  }
 },
 "nbformat": 4,
 "nbformat_minor": 2,
 "cells": [
  {
   "cell_type": "code",
   "execution_count": null,
   "metadata": {},
   "outputs": [],
   "source": [
    "!conda install mkl_toolkits"
   ]
  },
  {
   "cell_type": "code",
   "execution_count": null,
   "metadata": {},
   "outputs": [],
   "source": [
    "import matplotlib.pyplot as plt\n",
    "import numpy as np\n",
    "from mkl_toolkits.mplot3d import Axes3D"
   ]
  },
  {
   "cell_type": "code",
   "execution_count": null,
   "metadata": {},
   "outputs": [],
   "source": [
    "fig = plt.figure(figsize = (15,10))\n",
    "ax = Axes3D(fig)\n",
    "delta = 0.125\n",
    "x = np.arange(-3.0,3.0,delta)\n",
    "y = np.arange(-2.0,2.0,delta)\n",
    "\n",
    "X,Y = np.meshgrid(x,y)\n",
    "Z1 = pow(x,2)+pow(x,y)+pow(z,2)\n",
    "Z2 = pow(x,2)+pow(y.2)"
   ]
  },
  {
   "cell_type": "code",
   "execution_count": null,
   "metadata": {},
   "outputs": [],
   "source": [
    "surf = ax.plot_surface(X,Y,Z,rstride=1,cstride=1,cmap=get_cmap('rainbow'))\n",
    "ax.set_zlim(-2,2)\n",
    "fig.colorbar(surf,shrink=0.5,aspect=5)\n",
    "plt.show()"
   ]
  }
 ]
}