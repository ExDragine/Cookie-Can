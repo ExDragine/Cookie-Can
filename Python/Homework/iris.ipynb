{
 "cells": [
  {
   "cell_type": "code",
   "execution_count": null,
   "metadata": {},
   "outputs": [],
   "source": [
    "import pandas as pd\n",
    "# from sklearn.preprocessing import label_binarize\n",
    "from sklearn.preprocessing import LabelEncoder\n",
    "from sklearn.model_selection import train_test_split\n",
    "from sklearn.neighbors import KNeighborsClassifier\n",
    "from sklearn.ensemble import AdaBoostClassifier\n",
    "from sklearn.metrics import accuracy_score\n",
    "import sklearn.svm as svm\n",
    "import matplotlib.pyplot as plt\n",
    "import seaborn as sns\n",
    "import random"
   ]
  },
  {
   "cell_type": "code",
   "execution_count": null,
   "metadata": {},
   "outputs": [],
   "source": [
    "# %matplotlib widget\n",
    "%matplotlib inline"
   ]
  },
  {
   "cell_type": "code",
   "execution_count": null,
   "metadata": {},
   "outputs": [],
   "source": [
    "iris = pd.read_excel(\"Iris.xlsx\", header=1)\n",
    "data = iris.iloc[:, 0:4]\n",
    "target = iris.iloc[:, 4:5]\n",
    "# target = label_binarize(target, classes=[\"Setosa\", \"Versicolour\", \"Virginica\"])\n",
    "target_encoder = LabelEncoder().fit(target)\n",
    "target = target_encoder.transform(target)\n",
    "X_train, X_test, Y_train, Y_test = train_test_split(\n",
    "    data, target, test_size=0.2, random_state=random.randint(1, 1000))\n"
   ]
  },
  {
   "cell_type": "code",
   "execution_count": null,
   "metadata": {},
   "outputs": [],
   "source": [
    "iris_raw = pd.read_excel('Iris.xlsx')\n",
    "sns.FacetGrid(iris_raw, hue=\"Species\", size=5) \\\n",
    "   .map(plt.scatter, \"sepal_length\", \"sepal_width\") \\\n",
    "   .add_legend()\n",
    "sns.FacetGrid(iris_raw, hue=\"Species\", size=5) \\\n",
    "   .map(plt.scatter, \"petal_length\", \"petal_width\") \\\n",
    "   .add_legend()"
   ]
  },
  {
   "cell_type": "code",
   "execution_count": null,
   "metadata": {},
   "outputs": [],
   "source": [
    "classifier = KNeighborsClassifier(n_neighbors=3)\n",
    "KNN = classifier.fit(X_train, Y_train)\n",
    "Y_predict = KNN.predict(X_test)\n",
    "print(accuracy_score(Y_test, Y_predict))\n"
   ]
  },
  {
   "cell_type": "code",
   "execution_count": null,
   "metadata": {},
   "outputs": [],
   "source": [
    "model = svm.SVC(C=3, kernel='rbf')\n",
    "model.fit(X_train, Y_train)\n",
    "Y_predict = model.predict(X_test)\n",
    "print(accuracy_score(Y_test, Y_predict))"
   ]
  },
  {
   "cell_type": "code",
   "execution_count": null,
   "metadata": {},
   "outputs": [],
   "source": [
    "model = AdaBoostClassifier(n_estimators=3,random_state=0)\n",
    "model.fit(X_train,Y_train)\n",
    "Y_predict = model.predict(X_test)\n",
    "print(accuracy_score(Y_test, Y_predict))"
   ]
  },
  {
   "cell_type": "code",
   "execution_count": null,
   "metadata": {},
   "outputs": [],
   "source": [
    "RandomNumber = []\n",
    "T2T_list = []\n",
    "KNN_Accuracy = []\n",
    "SVM_Accuracy = []\n",
    "AdaBoost_Accuracy = []\n",
    "def multilearn(T2T):\n",
    "    r_number = random.randint(1, 1000)\n",
    "    RandomNumber.append(r_number)\n",
    "    X_train, X_test, Y_train, Y_test = train_test_split(\n",
    "        data, target, test_size=T2T, random_state=r_number)\n",
    "    classifier = KNeighborsClassifier(n_neighbors=3)\n",
    "    KNN = classifier.fit(X_train, Y_train)\n",
    "    Y_predict = KNN.predict(X_test)\n",
    "    KNN_Accuracy.append(accuracy_score(Y_test, Y_predict))\n",
    "    model = svm.SVC(C=3, kernel='rbf')\n",
    "    model.fit(X_train, Y_train)\n",
    "    Y_predict = model.predict(X_test)\n",
    "    SVM_Accuracy.append(accuracy_score(Y_test, Y_predict))\n",
    "\n",
    "    model = AdaBoostClassifier(n_estimators=3, random_state=0)\n",
    "    model.fit(X_train, Y_train)\n",
    "    Y_predict = model.predict(X_test)\n",
    "    AdaBoost_Accuracy.append(accuracy_score(Y_test, Y_predict))\n",
    "\n",
    "for i in range(200):\n",
    "    if i < 100:\n",
    "        T2T = 0.2\n",
    "        multilearn(T2T)\n",
    "    else:\n",
    "        T2T=0.3\n",
    "        multilearn(T2T)\n",
    "    T2T_list.append(T2T)\n",
    "print(RandomNumber)\n",
    "print(KNN_Accuracy)\n",
    "print(SVM_Accuracy)\n",
    "print(AdaBoost_Accuracy)\n",
    "Data = pd.DataFrame({\"RandomNumber\":RandomNumber,\"Train/Test\":T2T_list,\"KNN_Accuracy\":KNN_Accuracy,\"SVM_Accuracy\":SVM_Accuracy,\"AdaBoost_Accuracy\":AdaBoost_Accuracy})\n",
    "Data.to_excel(\"Data.xlsx\")"
   ]
  },
  {
   "cell_type": "code",
   "execution_count": null,
   "metadata": {},
   "outputs": [],
   "source": []
  }
 ],
 "metadata": {
  "interpreter": {
   "hash": "c84d3a353756ebc32a589f0c6fd1fb4d1729dd3b737e8bd59bd083c53f49b58b"
  },
  "kernelspec": {
   "display_name": "Python 3.10.4 ('ML')",
   "language": "python",
   "name": "python3"
  },
  "language_info": {
   "codemirror_mode": {
    "name": "ipython",
    "version": 3
   },
   "file_extension": ".py",
   "mimetype": "text/x-python",
   "name": "python",
   "nbconvert_exporter": "python",
   "pygments_lexer": "ipython3",
   "version": "3.10.4"
  },
  "orig_nbformat": 4
 },
 "nbformat": 4,
 "nbformat_minor": 2
}
