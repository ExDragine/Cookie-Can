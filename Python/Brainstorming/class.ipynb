{
 "cells": [
  {
   "cell_type": "code",
   "execution_count": null,
   "metadata": {},
   "outputs": [],
   "source": [
    "import ipywidgets as widgets"
   ]
  },
  {
   "cell_type": "code",
   "execution_count": null,
   "metadata": {},
   "outputs": [],
   "source": [
    "class cat:\n",
    "    def __init__(self,name,age):\n",
    "        self.name = str(name)\n",
    "        self.age = int(age)\n",
    "    \n",
    "    def wakeup(self):\n",
    "        print('喵喵喵')\n",
    "    \n",
    "    def feed(self,food):\n",
    "        ignition = widgets.ToggleButton(value=False,\n",
    "                                        description='喂猫',\n",
    "                                        button_style='success',\n",
    "                                        tooltip='Feed your cat',\n",
    "                                        icon='cat')\n",
    "\n",
    "        output = widgets.Output()\n",
    "\n",
    "        display(ignition, output)\n",
    "\n",
    "\n",
    "        def on_value_change(change):\n",
    "            with output:\n",
    "                if change['new'] == True:\n",
    "                    print(\"喵喵喵!\")\n",
    "                else:\n",
    "                    print(\"喵喵喵?\")\n",
    "\n",
    "\n",
    "        ignition.observe(on_value_change, names='value')"
   ]
  },
  {
   "cell_type": "code",
   "execution_count": null,
   "metadata": {},
   "outputs": [],
   "source": [
    "NEWCAT = cat('Leon',2)\n",
    "NEWCAT.feed(food=7)"
   ]
  }
 ],
 "metadata": {
  "interpreter": {
   "hash": "c84d3a353756ebc32a589f0c6fd1fb4d1729dd3b737e8bd59bd083c53f49b58b"
  },
  "kernelspec": {
   "display_name": "Python 3.10.4 ('ML')",
   "language": "python",
   "name": "python3"
  },
  "language_info": {
   "codemirror_mode": {
    "name": "ipython",
    "version": 3
   },
   "file_extension": ".py",
   "mimetype": "text/x-python",
   "name": "python",
   "nbconvert_exporter": "python",
   "pygments_lexer": "ipython3",
   "version": "3.10.4"
  },
  "orig_nbformat": 4
 },
 "nbformat": 4,
 "nbformat_minor": 2
}
