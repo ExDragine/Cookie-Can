{
 "cells": [
  {
   "cell_type": "code",
   "execution_count": null,
   "metadata": {},
   "outputs": [],
   "source": [
    "import contextlib\n",
    "import wave\n",
    "import requests\n",
    "import time\n",
    "from xml.etree import ElementTree\n",
    "import argparse"
   ]
  },
  {
   "cell_type": "code",
   "execution_count": null,
   "metadata": {},
   "outputs": [],
   "source": [
    "inputFile = str(input())"
   ]
  },
  {
   "cell_type": "code",
   "execution_count": null,
   "metadata": {},
   "outputs": [],
   "source": [
    "file = open(inputFile,'rt')\n",
    "manuscript = file.readlines()\n",
    "cuts = len(manuscript)"
   ]
  },
  {
   "cell_type": "code",
   "execution_count": null,
   "metadata": {},
   "outputs": [],
   "source": [
    "class TextToSpeech(object):\n",
    "    def __init__(self, subscription_key):\n",
    "        self.subscription_key = subscription_key\n",
    "        self.tts = args\n",
    "        self.timestr = time.strftime(\"%Y%m%d-%H%M\")\n",
    "        self.access_token = None\n",
    "\n",
    "    def get_token(self):\n",
    "        fetch_token_url = \"https://eastasia.api.cognitive.microsoft.com/sts/v1.0/issueToken\"  # 终结点\n",
    "        headers = {'Ocp-Apim-Subscription-Key': self.subscription_key}\n",
    "        response = requests.post(fetch_token_url, headers=headers)\n",
    "        self.access_token = str(response.text)\n",
    "\n",
    "    def save_audio(self,cuts):\n",
    "        if people is None:\n",
    "            ShortName = 'zh-CN-YunxiNeural'\n",
    "        else:\n",
    "            ShortName = people\n",
    "\n",
    "        base_url = 'https://eastasia.tts.speech.microsoft.com/'\n",
    "        path = 'cognitiveservices/v1'\n",
    "        constructed_url = base_url + path\n",
    "        headers = {\n",
    "            'Authorization': 'Bearer ' + self.access_token,\n",
    "            'Content-Type': 'application/ssml+xml',\n",
    "            'X-Microsoft-OutputFormat': 'riff-24khz-16bit-mono-pcm',\n",
    "            'User-Agent': 'RadioSpeaker'\n",
    "        }\n",
    "        xml_body = ElementTree.Element('speak', version='1.0')\n",
    "        xml_body.set('{http://www.w3.org/XML/1998/namespace}lang', 'en-us')\n",
    "        voice = ElementTree.SubElement(xml_body, 'voice')\n",
    "        voice.set('{http://www.w3.org/XML/1998/namespace}lang', 'en-US')\n",
    "        voice.set(\n",
    "            'name', ShortName\n",
    "        )  # Short name for 'Microsoft Server Speech Text to Speech Voice (en-US, Guy24KRUS)'\n",
    "        if style == None:\n",
    "            pass\n",
    "        else:\n",
    "            mstts = ElementTree.SubElement(voice, 'mstts', nsmap='express-as')\n",
    "            mstts.set('style', style)\n",
    "        # A.set('role','Boy')\n",
    "        voice.text = self.tts\n",
    "        body = ElementTree.tostring(xml_body)\n",
    "\n",
    "        response = requests.post(constructed_url, headers=headers, data=body)\n",
    "\n",
    "        if response.status_code == 200:\n",
    "            with open('sample-' + self.timestr + '-' + str(cuts) + '.wav',\n",
    "                      'wb') as audio:\n",
    "                audio.write(response.content)\n",
    "                print(\"\\nStatus code: \" + str(response.status_code) +\n",
    "                      \"\\nYour TTS is ready for playback.\\n\")\n",
    "        else:\n",
    "            print(\n",
    "                \"\\nStatus code: \" + str(response.status_code) +\n",
    "                \"\\nSomething went wrong. Check your subscription key and headers.\\n\"\n",
    "            )\n",
    "            print(\"Reason: \" + str(response.reason) + \"\\n\")\n",
    "\n",
    "    def get_time(self,cuts):\n",
    "        with contextlib.closing(\n",
    "                wave.open('sample-' + self.timestr +'-'+ str(cuts) +'.wav', 'r')) as f:\n",
    "            frames = f.getnframes()\n",
    "            rate = f.getframerate()\n",
    "            duration = frames / float(rate)\n",
    "        print(duration)\n",
    "        return duration\n",
    "\n",
    "\n",
    "def GetVoice(text, people=None, style=None,cuts=None):\n",
    "    subscription_key = 'f63905c334f24e9f884f17c37a545b0d'\n",
    "    app = TextToSpeech(subscription_key)\n",
    "    app.get_token()\n",
    "    app.save_audio(cuts)\n",
    "    time.sleep(1)\n",
    "    app.get_time(cuts)"
   ]
  },
  {
   "cell_type": "code",
   "execution_count": null,
   "metadata": {},
   "outputs": [],
   "source": [
    "args = ''\n",
    "style = 'Narration-professional'\n",
    "people = 'zh-CN-YunyangNeural'\n",
    "for i in range(cuts):\n",
    "    args = manuscript[i]\n",
    "    GetVoice(args, people, style,i)"
   ]
  }
 ],
 "metadata": {
  "interpreter": {
   "hash": "c84d3a353756ebc32a589f0c6fd1fb4d1729dd3b737e8bd59bd083c53f49b58b"
  },
  "kernelspec": {
   "display_name": "Python 3.10.4 ('ML')",
   "language": "python",
   "name": "python3"
  },
  "language_info": {
   "codemirror_mode": {
    "name": "ipython",
    "version": 3
   },
   "file_extension": ".py",
   "mimetype": "text/x-python",
   "name": "python",
   "nbconvert_exporter": "python",
   "pygments_lexer": "ipython3",
   "version": "3.10.4"
  },
  "orig_nbformat": 4
 },
 "nbformat": 4,
 "nbformat_minor": 2
}
