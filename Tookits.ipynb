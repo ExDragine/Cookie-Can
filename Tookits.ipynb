{
 "cells": [
  {
   "cell_type": "code",
   "execution_count": 3,
   "metadata": {},
   "outputs": [
    {
     "name": "stdout",
     "output_type": "stream",
     "text": [
      "4980 5020 0\n"
     ]
    }
   ],
   "source": [
    "import os\n",
    "import requests\n",
    "\n",
    "char = 'https://sites.cs.ucsb.edu/~lingqi/teaching/resources/GAMES101_Lecture_'\n",
    "char2 = '.pdf'\n",
    "file = open('get.cmd', 'w+')\n",
    "lis1 = []\n",
    "\n",
    "for i in range(1, 10):\n",
    "    charFinal = 'wget ' + char + '0' + str(\n",
    "        i) + char2 + ' -o GAMES101_Lecture_' + str(i) + '.pdf' + '\\n'\n",
    "    lis1.append(charFinal)\n",
    "for i in range(10, 23):\n",
    "    charFinal = 'wget ' + char + str(\n",
    "        i) + char2 + ' -o GAMES101_Lecture_' + str(i) + '.pdf' + '\\n'\n",
    "    lis1.append(charFinal)\n",
    "file.writelines(lis1)\n"
   ]
  }
 ],
 "metadata": {
  "interpreter": {
   "hash": "d107c8508c4103c3910e611060cc20f4800c0af83bcf1ee1568d27a6634620c3"
  },
  "kernelspec": {
   "display_name": "Python 3.9.7 64-bit ('base': conda)",
   "language": "python",
   "name": "python3"
  },
  "language_info": {
   "codemirror_mode": {
    "name": "ipython",
    "version": 3
   },
   "file_extension": ".py",
   "mimetype": "text/x-python",
   "name": "python",
   "nbconvert_exporter": "python",
   "pygments_lexer": "ipython3",
   "version": "3.9.7"
  },
  "orig_nbformat": 4
 },
 "nbformat": 4,
 "nbformat_minor": 2
}
