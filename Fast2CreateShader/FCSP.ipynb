{
 "cells": [
  {
   "cell_type": "code",
   "execution_count": 6,
   "metadata": {},
   "outputs": [],
   "source": [
    "import os\n",
    "import pyjion"
   ]
  },
  {
   "cell_type": "code",
   "execution_count": 7,
   "metadata": {},
   "outputs": [],
   "source": [
    "i18n = ['en_US', 'ar_AE', 'es_ES', 'fr_FR', 'ru_RU', 'zh_CN']\n",
    "OptiFine_File = ['block.properties', 'shaders.properties']\n",
    "Shaders = ['shadowcomp', 'prepare', 'deferred', 'composite']\n",
    "ShaderName = [\n",
    "    'shadow', 'gbuffers_basic', 'gbuffers_textured', 'gbuffers_textured_lit',\n",
    "    'gbuffers_skybasic', 'gbuffers_skytextured', 'gbuffers_clouds',\n",
    "    'gbuffers_terrain', 'gbuffers_damagedblock', 'gbuffers_block',\n",
    "    'gbuffers_beaconbeam', 'gbuffers_item', 'gbuffers_entities',\n",
    "    'gbuffers_entities_glowing', 'gbuffers_armor_glint', 'gbuffers_spidereyes',\n",
    "    'gbuffers_hand', 'gbuffers_weather', 'gbuffers_water',\n",
    "    'gbuffers_hand_water', 'final'\n",
    "]\n",
    "ExtName = ['.vsh', '.fsh', '.gsh', '.csh']\n",
    "Folder = [\n",
    "    'Function', 'Lib', 'Lang', 'Model', 'Resource', 'world0', 'world-1',\n",
    "    'world1'\n",
    "]\n",
    "ExtFolder = ['Doc']\n",
    "Syntax = ['Vertex', 'Fragment', 'Geometry', 'Compute', 'Logo']"
   ]
  },
  {
   "cell_type": "code",
   "execution_count": 8,
   "metadata": {},
   "outputs": [],
   "source": [
    "Name = input('请输入你的光影名字\\n')\n",
    "OGLV = input('请输入GLSL语言规范版本\\n')\n",
    "OGLM = input('请输入GLSL语言模式\\n')"
   ]
  },
  {
   "cell_type": "code",
   "execution_count": 9,
   "metadata": {},
   "outputs": [],
   "source": [
    "Version = ['#version ' + OGLV + ' ' + OGLM, '\\n' * 2]\n",
    "RNP = os.getcwd()  # RNP: Right Now Path"
   ]
  },
  {
   "cell_type": "code",
   "execution_count": 10,
   "metadata": {},
   "outputs": [],
   "source": [
    "def FileWorker(File, Data, Model):\n",
    "    Worker = open(File, Model)\n",
    "    Worker.writelines(Data)\n",
    "    Worker.close()\n",
    "\n",
    "\n",
    "def DataLoad(input):\n",
    "    DataStream = []\n",
    "    for Data in input:\n",
    "        Worker = open(Data, 'r+')\n",
    "        DataStream.append(Worker.readlines())\n",
    "        Worker.close()\n",
    "    return DataStream\n",
    "\n",
    "\n",
    "def DirWorker(Path):\n",
    "    for Worker in Path:\n",
    "        if os.path.exists(Path):\n",
    "            print('目录' + Path + '已存在')\n",
    "            continue\n",
    "        else:\n",
    "            os.makedirs(Path)\n",
    "\n",
    "\n",
    "def main(Name):\n",
    "    DataStream = DataLoad(Syntax)\n",
    "    ProgramData = DataStream.pop()\n",
    "\n",
    "    DirWorker(RNP + '/' + Name + '/' + 'shaders')\n",
    "    os.chdir(RNP + '/' + Name + '/' + 'shaders')\n",
    "    for Worker in Folder:\n",
    "        DirWorker(Worker)\n",
    "\n",
    "    for Worker in OptiFine_File:\n",
    "        FileWorker(Worker, list('#OptiFine配置文件，可根据doc内文件修改'), 'w+')\n",
    "\n",
    "    for i in range(len(ExtName)):\n",
    "        for Name in ShaderName:\n",
    "            FileWorker(File=Name + ExtName[i],\n",
    "                       Data=Version + DataStream[4] + ProgramData[i],\n",
    "                       Model='w+')\n",
    "        for Name in Shaders:\n",
    "            FileWorker(File=Name + ExtName[i],\n",
    "                       Data=Version + DataStream[4] + ProgramData[i],\n",
    "                       Model='w+')\n",
    "            for o in range(1, 16):\n",
    "                FileWorker(File=Name + str(o) + ExtName[i],\n",
    "                           Data=Version + DataStream[4] + ProgramData[i],\n",
    "                           Model='w+')\n",
    "    os.chdir(RNP + '/' + Name + '/' + 'shaders/lang')\n",
    "    for Worker in i18n:\n",
    "        FileWorker(File=Worker + '.lang',\n",
    "                   Data=list('#本文件根据联合国工作用语言确定'),\n",
    "                   Model='w+')\n",
    "    os.chdir(RNP + '/' + Name + '/' + 'shaders/Lib')\n",
    "    FileWorker(File='Universal.glsl', Data=list('#预留文件'), Model='w+')"
   ]
  },
  {
   "cell_type": "code",
   "execution_count": 11,
   "metadata": {},
   "outputs": [
    {
     "ename": "FileNotFoundError",
     "evalue": "[Errno 2] No such file or directory: 'Vertex'",
     "output_type": "error",
     "traceback": [
      "\u001b[1;31m---------------------------------------------------------------------------\u001b[0m",
      "\u001b[1;31mFileNotFoundError\u001b[0m                         Traceback (most recent call last)",
      "\u001b[1;32mC:\\Users\\EXDRAG~1\\AppData\\Local\\Temp/ipykernel_4692/3618093677.py\u001b[0m in \u001b[0;36m<module>\u001b[1;34m\u001b[0m\n\u001b[1;32m----> 1\u001b[1;33m \u001b[0mmain\u001b[0m\u001b[1;33m(\u001b[0m\u001b[0mName\u001b[0m\u001b[1;33m)\u001b[0m\u001b[1;33m\u001b[0m\u001b[1;33m\u001b[0m\u001b[0m\n\u001b[0m",
      "\u001b[1;32mC:\\Users\\EXDRAG~1\\AppData\\Local\\Temp/ipykernel_4692/452941153.py\u001b[0m in \u001b[0;36mmain\u001b[1;34m(Name)\u001b[0m\n\u001b[0;32m     24\u001b[0m \u001b[1;33m\u001b[0m\u001b[0m\n\u001b[0;32m     25\u001b[0m \u001b[1;32mdef\u001b[0m \u001b[0mmain\u001b[0m\u001b[1;33m(\u001b[0m\u001b[0mName\u001b[0m\u001b[1;33m)\u001b[0m\u001b[1;33m:\u001b[0m\u001b[1;33m\u001b[0m\u001b[1;33m\u001b[0m\u001b[0m\n\u001b[1;32m---> 26\u001b[1;33m     \u001b[0mDataStream\u001b[0m \u001b[1;33m=\u001b[0m \u001b[0mDataLoad\u001b[0m\u001b[1;33m(\u001b[0m\u001b[0mSyntax\u001b[0m\u001b[1;33m)\u001b[0m\u001b[1;33m\u001b[0m\u001b[1;33m\u001b[0m\u001b[0m\n\u001b[0m\u001b[0;32m     27\u001b[0m     \u001b[0mProgramData\u001b[0m \u001b[1;33m=\u001b[0m \u001b[0mDataStream\u001b[0m\u001b[1;33m.\u001b[0m\u001b[0mpop\u001b[0m\u001b[1;33m(\u001b[0m\u001b[1;33m)\u001b[0m\u001b[1;33m\u001b[0m\u001b[1;33m\u001b[0m\u001b[0m\n\u001b[0;32m     28\u001b[0m \u001b[1;33m\u001b[0m\u001b[0m\n",
      "\u001b[1;32mC:\\Users\\EXDRAG~1\\AppData\\Local\\Temp/ipykernel_4692/452941153.py\u001b[0m in \u001b[0;36mDataLoad\u001b[1;34m(input)\u001b[0m\n\u001b[0;32m      8\u001b[0m     \u001b[0mDataStream\u001b[0m \u001b[1;33m=\u001b[0m \u001b[1;33m[\u001b[0m\u001b[1;33m]\u001b[0m\u001b[1;33m\u001b[0m\u001b[1;33m\u001b[0m\u001b[0m\n\u001b[0;32m      9\u001b[0m     \u001b[1;32mfor\u001b[0m \u001b[0mData\u001b[0m \u001b[1;32min\u001b[0m \u001b[0minput\u001b[0m\u001b[1;33m:\u001b[0m\u001b[1;33m\u001b[0m\u001b[1;33m\u001b[0m\u001b[0m\n\u001b[1;32m---> 10\u001b[1;33m         \u001b[0mWorker\u001b[0m \u001b[1;33m=\u001b[0m \u001b[0mopen\u001b[0m\u001b[1;33m(\u001b[0m\u001b[0mData\u001b[0m\u001b[1;33m,\u001b[0m \u001b[1;34m'r+'\u001b[0m\u001b[1;33m)\u001b[0m\u001b[1;33m\u001b[0m\u001b[1;33m\u001b[0m\u001b[0m\n\u001b[0m\u001b[0;32m     11\u001b[0m         \u001b[0mDataStream\u001b[0m\u001b[1;33m.\u001b[0m\u001b[0mappend\u001b[0m\u001b[1;33m(\u001b[0m\u001b[0mWorker\u001b[0m\u001b[1;33m.\u001b[0m\u001b[0mreadlines\u001b[0m\u001b[1;33m(\u001b[0m\u001b[1;33m)\u001b[0m\u001b[1;33m)\u001b[0m\u001b[1;33m\u001b[0m\u001b[1;33m\u001b[0m\u001b[0m\n\u001b[0;32m     12\u001b[0m         \u001b[0mWorker\u001b[0m\u001b[1;33m.\u001b[0m\u001b[0mclose\u001b[0m\u001b[1;33m(\u001b[0m\u001b[1;33m)\u001b[0m\u001b[1;33m\u001b[0m\u001b[1;33m\u001b[0m\u001b[0m\n",
      "\u001b[1;31mFileNotFoundError\u001b[0m: [Errno 2] No such file or directory: 'Vertex'"
     ]
    }
   ],
   "source": [
    "main(Name)"
   ]
  }
 ],
 "metadata": {
  "interpreter": {
   "hash": "5cc200df6a0ec934e944f0776c2faec3026c7aa76a875a9cbcc7f3602793981d"
  },
  "kernelspec": {
   "display_name": "Python 3.10.0 64-bit ('Mercury': conda)",
   "language": "python",
   "name": "python3"
  },
  "language_info": {
   "codemirror_mode": {
    "name": "ipython",
    "version": 3
   },
   "file_extension": ".py",
   "mimetype": "text/x-python",
   "name": "python",
   "nbconvert_exporter": "python",
   "pygments_lexer": "ipython3",
   "version": "3.10.0"
  },
  "orig_nbformat": 4
 },
 "nbformat": 4,
 "nbformat_minor": 2
}
