{
 "cells": [
  {
   "cell_type": "code",
   "execution_count": 3,
   "metadata": {},
   "outputs": [
    {
     "name": "stdout",
     "output_type": "stream",
     "text": [
      "4980 5020 0\n"
     ]
    }
   ],
   "source": [
    "import random\n",
    "\n",
    "A, B, C = 0, 0, 0\n",
    "\n",
    "for i in range(10000):\n",
    "    RNB=random.randint(1, 2)\n",
    "    if RNB== 1:\n",
    "        A += 1\n",
    "    elif RNB == 2:\n",
    "        B += 1\n",
    "    elif RNB == 3:\n",
    "        C += 1\n",
    "print(A, B, C)"
   ]
  }
 ],
 "metadata": {
  "interpreter": {
   "hash": "d107c8508c4103c3910e611060cc20f4800c0af83bcf1ee1568d27a6634620c3"
  },
  "kernelspec": {
   "display_name": "Python 3.9.7 64-bit ('base': conda)",
   "language": "python",
   "name": "python3"
  },
  "language_info": {
   "codemirror_mode": {
    "name": "ipython",
    "version": 3
   },
   "file_extension": ".py",
   "mimetype": "text/x-python",
   "name": "python",
   "nbconvert_exporter": "python",
   "pygments_lexer": "ipython3",
   "version": "3.9.7"
  },
  "orig_nbformat": 4
 },
 "nbformat": 4,
 "nbformat_minor": 2
}
